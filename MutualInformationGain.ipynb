{
 "cells": [
  {
   "cell_type": "code",
   "execution_count": 2,
   "metadata": {},
   "outputs": [],
   "source": [
    "import seaborn as sns\n",
    "from sklearn.neighbors import KNeighborsClassifier\n",
    "from IPython.display import display\n",
    "from sklearn.metrics import confusion_matrix\n",
    "import pandas as pd\n",
    "import numpy as np"
   ]
  },
  {
   "cell_type": "code",
   "execution_count": 4,
   "metadata": {},
   "outputs": [
    {
     "name": "stdout",
     "output_type": "stream",
     "text": [
      "['id', 'primary', 'Title', 'Autherkeywords', 'Indexkeywords', 'Author', 'AuthorsID', 'Volume', 'Issue', 'Year', 'Pagestart', 'Pageend', 'Pagecount', 'Source', 'ENTRYTYPE', 'doi', 'url', 'citation_count', 'Affiliations', 'Authors_affiliations', 'Address', 'Publisher', 'Language', 'AbbreviatedSource', 'Document_Type', 'Publication_Stage', 'Access_Type', 'EID', 'ABSTRACT_VIEWS', 'ALL_BLOG_COUNT', 'CITED_BY_COUNT', 'DOWNLOAD_COUNT', 'EXPORTS_SAVES', 'FACEBOOK_COUNT', 'FULL_TEXT_VIEWS', 'LINK_CLICK_COUNT', 'LINK_OUTS', 'READER_COUNT', 'REFERENCE_COUNT', 'TWEET_COUNT', 'capture', 'citation', 'mention', 'socialMedia', 'usage']\n",
      "['primary', 'citation_count', 'ABSTRACT_VIEWS', 'ALL_BLOG_COUNT', 'CITED_BY_COUNT', 'DOWNLOAD_COUNT', 'EXPORTS_SAVES', 'FACEBOOK_COUNT', 'FULL_TEXT_VIEWS', 'LINK_CLICK_COUNT', 'LINK_OUTS', 'READER_COUNT', 'REFERENCE_COUNT', 'TWEET_COUNT', 'capture', 'citation', 'mention', 'socialMedia', 'usage', 'Document_Type_Book Chapter', 'Document_Type_Conference Paper', 'Document_Type_Review', 'Year_2005', 'Year_2006', 'Year_2007', 'Year_2008', 'Year_2009', 'Year_2010', 'Year_2011', 'Year_2012', 'Year_2015', 'Year_2016', 'Year_2017', 'Year_2018']\n"
     ]
    }
   ],
   "source": [
    "df = pd.read_csv('dataset.csv')\n",
    "print(list(df.columns))\n",
    "cols_to_drop = ['id','Title', 'Author','Pagecount','Autherkeywords','AuthorsID','Volume','Issue','Pagestart','Pageend','Indexkeywords','Source', 'ENTRYTYPE', 'doi', 'url','Affiliations', 'Authors_affiliations', 'Address', 'Publisher', 'Language', 'AbbreviatedSource', 'Publication_Stage', 'Access_Type', 'EID',]\n",
    "new_df = df.drop(cols_to_drop, axis=1)\n",
    "\n",
    "emb_dummies = pd.get_dummies(new_df['Document_Type'], drop_first=True, prefix='Document_Type')\n",
    "new_df = pd.concat([new_df, emb_dummies], axis=1)\n",
    "new_df.drop('Document_Type', axis=1, inplace=True)\n",
    "\n",
    "year_dummies = pd.get_dummies(new_df['Year'], drop_first=True, prefix='Year')\n",
    "new_df = pd.concat([new_df, year_dummies], axis=1)\n",
    "new_df.drop('Year', axis=1, inplace=True)\n",
    "\n",
    "new_df = new_df.fillna(0)\n",
    "print(list(new_df.columns))"
   ]
  },
  {
   "cell_type": "code",
   "execution_count": 5,
   "metadata": {},
   "outputs": [
    {
     "name": "stdout",
     "output_type": "stream",
     "text": [
      "<class 'pandas.core.frame.DataFrame'>\n",
      "RangeIndex: 75 entries, 0 to 74\n",
      "Data columns (total 34 columns):\n",
      " #   Column                          Non-Null Count  Dtype  \n",
      "---  ------                          --------------  -----  \n",
      " 0   primary                         75 non-null     float64\n",
      " 1   citation_count                  75 non-null     int64  \n",
      " 2   ABSTRACT_VIEWS                  75 non-null     float64\n",
      " 3   ALL_BLOG_COUNT                  75 non-null     float64\n",
      " 4   CITED_BY_COUNT                  75 non-null     float64\n",
      " 5   DOWNLOAD_COUNT                  75 non-null     float64\n",
      " 6   EXPORTS_SAVES                   75 non-null     float64\n",
      " 7   FACEBOOK_COUNT                  75 non-null     float64\n",
      " 8   FULL_TEXT_VIEWS                 75 non-null     float64\n",
      " 9   LINK_CLICK_COUNT                75 non-null     float64\n",
      " 10  LINK_OUTS                       75 non-null     float64\n",
      " 11  READER_COUNT                    75 non-null     float64\n",
      " 12  REFERENCE_COUNT                 75 non-null     float64\n",
      " 13  TWEET_COUNT                     75 non-null     float64\n",
      " 14  capture                         75 non-null     float64\n",
      " 15  citation                        75 non-null     float64\n",
      " 16  mention                         75 non-null     float64\n",
      " 17  socialMedia                     75 non-null     float64\n",
      " 18  usage                           75 non-null     float64\n",
      " 19  Document_Type_Book Chapter      75 non-null     uint8  \n",
      " 20  Document_Type_Conference Paper  75 non-null     uint8  \n",
      " 21  Document_Type_Review            75 non-null     uint8  \n",
      " 22  Year_2005                       75 non-null     uint8  \n",
      " 23  Year_2006                       75 non-null     uint8  \n",
      " 24  Year_2007                       75 non-null     uint8  \n",
      " 25  Year_2008                       75 non-null     uint8  \n",
      " 26  Year_2009                       75 non-null     uint8  \n",
      " 27  Year_2010                       75 non-null     uint8  \n",
      " 28  Year_2011                       75 non-null     uint8  \n",
      " 29  Year_2012                       75 non-null     uint8  \n",
      " 30  Year_2015                       75 non-null     uint8  \n",
      " 31  Year_2016                       75 non-null     uint8  \n",
      " 32  Year_2017                       75 non-null     uint8  \n",
      " 33  Year_2018                       75 non-null     uint8  \n",
      "dtypes: float64(18), int64(1), uint8(15)\n",
      "memory usage: 12.4 KB\n"
     ]
    }
   ],
   "source": [
    "new_df.info()"
   ]
  },
  {
   "cell_type": "code",
   "execution_count": 6,
   "metadata": {},
   "outputs": [],
   "source": [
    "### Train test split to avoid overfitting\n",
    "from sklearn.model_selection import train_test_split\n",
    "X_train,X_test,y_train,y_test=train_test_split(new_df.drop(labels=['primary'], axis=1),\n",
    "    new_df['primary'],\n",
    "    test_size=0.3,\n",
    "    random_state=0)"
   ]
  },
  {
   "cell_type": "code",
   "execution_count": 7,
   "metadata": {},
   "outputs": [
    {
     "data": {
      "text/html": [
       "<div>\n",
       "<style scoped>\n",
       "    .dataframe tbody tr th:only-of-type {\n",
       "        vertical-align: middle;\n",
       "    }\n",
       "\n",
       "    .dataframe tbody tr th {\n",
       "        vertical-align: top;\n",
       "    }\n",
       "\n",
       "    .dataframe thead th {\n",
       "        text-align: right;\n",
       "    }\n",
       "</style>\n",
       "<table border=\"1\" class=\"dataframe\">\n",
       "  <thead>\n",
       "    <tr style=\"text-align: right;\">\n",
       "      <th></th>\n",
       "      <th>citation_count</th>\n",
       "      <th>ABSTRACT_VIEWS</th>\n",
       "      <th>ALL_BLOG_COUNT</th>\n",
       "      <th>CITED_BY_COUNT</th>\n",
       "      <th>DOWNLOAD_COUNT</th>\n",
       "      <th>EXPORTS_SAVES</th>\n",
       "      <th>FACEBOOK_COUNT</th>\n",
       "      <th>FULL_TEXT_VIEWS</th>\n",
       "      <th>LINK_CLICK_COUNT</th>\n",
       "      <th>LINK_OUTS</th>\n",
       "      <th>...</th>\n",
       "      <th>Year_2007</th>\n",
       "      <th>Year_2008</th>\n",
       "      <th>Year_2009</th>\n",
       "      <th>Year_2010</th>\n",
       "      <th>Year_2011</th>\n",
       "      <th>Year_2012</th>\n",
       "      <th>Year_2015</th>\n",
       "      <th>Year_2016</th>\n",
       "      <th>Year_2017</th>\n",
       "      <th>Year_2018</th>\n",
       "    </tr>\n",
       "  </thead>\n",
       "  <tbody>\n",
       "    <tr>\n",
       "      <th>4</th>\n",
       "      <td>5</td>\n",
       "      <td>0.0</td>\n",
       "      <td>0.0</td>\n",
       "      <td>5.0</td>\n",
       "      <td>0.0</td>\n",
       "      <td>0.0</td>\n",
       "      <td>0.0</td>\n",
       "      <td>0.0</td>\n",
       "      <td>0.0</td>\n",
       "      <td>0.0</td>\n",
       "      <td>...</td>\n",
       "      <td>0</td>\n",
       "      <td>0</td>\n",
       "      <td>0</td>\n",
       "      <td>0</td>\n",
       "      <td>0</td>\n",
       "      <td>0</td>\n",
       "      <td>1</td>\n",
       "      <td>0</td>\n",
       "      <td>0</td>\n",
       "      <td>0</td>\n",
       "    </tr>\n",
       "    <tr>\n",
       "      <th>65</th>\n",
       "      <td>4</td>\n",
       "      <td>0.0</td>\n",
       "      <td>0.0</td>\n",
       "      <td>4.0</td>\n",
       "      <td>0.0</td>\n",
       "      <td>0.0</td>\n",
       "      <td>0.0</td>\n",
       "      <td>0.0</td>\n",
       "      <td>0.0</td>\n",
       "      <td>0.0</td>\n",
       "      <td>...</td>\n",
       "      <td>0</td>\n",
       "      <td>0</td>\n",
       "      <td>0</td>\n",
       "      <td>0</td>\n",
       "      <td>0</td>\n",
       "      <td>0</td>\n",
       "      <td>0</td>\n",
       "      <td>1</td>\n",
       "      <td>0</td>\n",
       "      <td>0</td>\n",
       "    </tr>\n",
       "    <tr>\n",
       "      <th>48</th>\n",
       "      <td>4</td>\n",
       "      <td>0.0</td>\n",
       "      <td>0.0</td>\n",
       "      <td>4.0</td>\n",
       "      <td>0.0</td>\n",
       "      <td>0.0</td>\n",
       "      <td>0.0</td>\n",
       "      <td>0.0</td>\n",
       "      <td>0.0</td>\n",
       "      <td>0.0</td>\n",
       "      <td>...</td>\n",
       "      <td>0</td>\n",
       "      <td>0</td>\n",
       "      <td>0</td>\n",
       "      <td>0</td>\n",
       "      <td>0</td>\n",
       "      <td>0</td>\n",
       "      <td>0</td>\n",
       "      <td>0</td>\n",
       "      <td>1</td>\n",
       "      <td>0</td>\n",
       "    </tr>\n",
       "    <tr>\n",
       "      <th>2</th>\n",
       "      <td>10</td>\n",
       "      <td>540.0</td>\n",
       "      <td>0.0</td>\n",
       "      <td>10.0</td>\n",
       "      <td>0.0</td>\n",
       "      <td>18.0</td>\n",
       "      <td>0.0</td>\n",
       "      <td>0.0</td>\n",
       "      <td>0.0</td>\n",
       "      <td>43.0</td>\n",
       "      <td>...</td>\n",
       "      <td>0</td>\n",
       "      <td>0</td>\n",
       "      <td>0</td>\n",
       "      <td>0</td>\n",
       "      <td>0</td>\n",
       "      <td>0</td>\n",
       "      <td>0</td>\n",
       "      <td>0</td>\n",
       "      <td>0</td>\n",
       "      <td>1</td>\n",
       "    </tr>\n",
       "    <tr>\n",
       "      <th>45</th>\n",
       "      <td>4</td>\n",
       "      <td>8.0</td>\n",
       "      <td>0.0</td>\n",
       "      <td>4.0</td>\n",
       "      <td>0.0</td>\n",
       "      <td>0.0</td>\n",
       "      <td>0.0</td>\n",
       "      <td>0.0</td>\n",
       "      <td>0.0</td>\n",
       "      <td>0.0</td>\n",
       "      <td>...</td>\n",
       "      <td>0</td>\n",
       "      <td>0</td>\n",
       "      <td>0</td>\n",
       "      <td>0</td>\n",
       "      <td>0</td>\n",
       "      <td>0</td>\n",
       "      <td>0</td>\n",
       "      <td>0</td>\n",
       "      <td>1</td>\n",
       "      <td>0</td>\n",
       "    </tr>\n",
       "  </tbody>\n",
       "</table>\n",
       "<p>5 rows × 33 columns</p>\n",
       "</div>"
      ],
      "text/plain": [
       "    citation_count  ABSTRACT_VIEWS  ALL_BLOG_COUNT  CITED_BY_COUNT  \\\n",
       "4                5             0.0             0.0             5.0   \n",
       "65               4             0.0             0.0             4.0   \n",
       "48               4             0.0             0.0             4.0   \n",
       "2               10           540.0             0.0            10.0   \n",
       "45               4             8.0             0.0             4.0   \n",
       "\n",
       "    DOWNLOAD_COUNT  EXPORTS_SAVES  FACEBOOK_COUNT  FULL_TEXT_VIEWS  \\\n",
       "4              0.0            0.0             0.0              0.0   \n",
       "65             0.0            0.0             0.0              0.0   \n",
       "48             0.0            0.0             0.0              0.0   \n",
       "2              0.0           18.0             0.0              0.0   \n",
       "45             0.0            0.0             0.0              0.0   \n",
       "\n",
       "    LINK_CLICK_COUNT  LINK_OUTS  ...  Year_2007  Year_2008  Year_2009  \\\n",
       "4                0.0        0.0  ...          0          0          0   \n",
       "65               0.0        0.0  ...          0          0          0   \n",
       "48               0.0        0.0  ...          0          0          0   \n",
       "2                0.0       43.0  ...          0          0          0   \n",
       "45               0.0        0.0  ...          0          0          0   \n",
       "\n",
       "    Year_2010  Year_2011  Year_2012  Year_2015  Year_2016  Year_2017  \\\n",
       "4           0          0          0          1          0          0   \n",
       "65          0          0          0          0          1          0   \n",
       "48          0          0          0          0          0          1   \n",
       "2           0          0          0          0          0          0   \n",
       "45          0          0          0          0          0          1   \n",
       "\n",
       "    Year_2018  \n",
       "4           0  \n",
       "65          0  \n",
       "48          0  \n",
       "2           1  \n",
       "45          0  \n",
       "\n",
       "[5 rows x 33 columns]"
      ]
     },
     "execution_count": 7,
     "metadata": {},
     "output_type": "execute_result"
    }
   ],
   "source": [
    "X_train.head()"
   ]
  },
  {
   "cell_type": "code",
   "execution_count": 8,
   "metadata": {},
   "outputs": [
    {
     "data": {
      "text/plain": [
       "array([0.09405631, 0.        , 0.        , 0.02350812, 0.        ,\n",
       "       0.07241959, 0.        , 0.00986498, 0.        , 0.        ,\n",
       "       0.06580743, 0.        , 0.        , 0.07481963, 0.05144839,\n",
       "       0.00610975, 0.        , 0.        , 0.        , 0.01824946,\n",
       "       0.0340357 , 0.        , 0.        , 0.02089953, 0.        ,\n",
       "       0.        , 0.02976896, 0.02948824, 0.        , 0.        ,\n",
       "       0.        , 0.        , 0.02828809])"
      ]
     },
     "execution_count": 8,
     "metadata": {},
     "output_type": "execute_result"
    }
   ],
   "source": [
    "from sklearn.feature_selection import mutual_info_classif\n",
    "# determine the mutual information\n",
    "mutual_info = mutual_info_classif(X_train, y_train)\n",
    "mutual_info"
   ]
  },
  {
   "cell_type": "code",
   "execution_count": 9,
   "metadata": {},
   "outputs": [
    {
     "data": {
      "text/plain": [
       "citation_count                    0.094056\n",
       "capture                           0.074820\n",
       "EXPORTS_SAVES                     0.072420\n",
       "READER_COUNT                      0.065807\n",
       "citation                          0.051448\n",
       "Document_Type_Review              0.034036\n",
       "Year_2010                         0.029769\n",
       "Year_2011                         0.029488\n",
       "Year_2018                         0.028288\n",
       "CITED_BY_COUNT                    0.023508\n",
       "Year_2007                         0.020900\n",
       "Document_Type_Conference Paper    0.018249\n",
       "FULL_TEXT_VIEWS                   0.009865\n",
       "mention                           0.006110\n",
       "Year_2015                         0.000000\n",
       "ABSTRACT_VIEWS                    0.000000\n",
       "ALL_BLOG_COUNT                    0.000000\n",
       "DOWNLOAD_COUNT                    0.000000\n",
       "Year_2016                         0.000000\n",
       "FACEBOOK_COUNT                    0.000000\n",
       "LINK_CLICK_COUNT                  0.000000\n",
       "LINK_OUTS                         0.000000\n",
       "REFERENCE_COUNT                   0.000000\n",
       "Year_2006                         0.000000\n",
       "TWEET_COUNT                       0.000000\n",
       "Year_2012                         0.000000\n",
       "Year_2009                         0.000000\n",
       "Year_2017                         0.000000\n",
       "usage                             0.000000\n",
       "Document_Type_Book Chapter        0.000000\n",
       "Year_2008                         0.000000\n",
       "Year_2005                         0.000000\n",
       "socialMedia                       0.000000\n",
       "dtype: float64"
      ]
     },
     "execution_count": 9,
     "metadata": {},
     "output_type": "execute_result"
    }
   ],
   "source": [
    "mutual_info = pd.Series(mutual_info)\n",
    "mutual_info.index = X_train.columns\n",
    "mutual_info.sort_values(ascending=False)"
   ]
  },
  {
   "cell_type": "code",
   "execution_count": 10,
   "metadata": {},
   "outputs": [
    {
     "data": {
      "text/plain": [
       "<AxesSubplot:>"
      ]
     },
     "execution_count": 10,
     "metadata": {},
     "output_type": "execute_result"
    },
    {
     "data": {
      "image/png": "[encoded data removed]",
      "text/plain": [
       "<Figure size 1440x576 with 1 Axes>"
      ]
     },
     "metadata": {
      "needs_background": "light"
     },
     "output_type": "display_data"
    }
   ],
   "source": [
    "mutual_info.sort_values(ascending=False).plot.bar(figsize=(20, 8))"
   ]
  },
  {
   "cell_type": "code",
   "execution_count": 11,
   "metadata": {},
   "outputs": [],
   "source": [
    "from sklearn.feature_selection import SelectKBest"
   ]
  },
  {
   "cell_type": "code",
   "execution_count": 12,
   "metadata": {},
   "outputs": [
    {
     "data": {
      "text/plain": [
       "Index(['citation_count', 'LINK_CLICK_COUNT', 'capture', 'Year_2006',\n",
       "       'Year_2009'],\n",
       "      dtype='object')"
      ]
     },
     "execution_count": 12,
     "metadata": {},
     "output_type": "execute_result"
    }
   ],
   "source": [
    "\n",
    "#No we Will select the  top 5 important features\n",
    "sel_five_cols = SelectKBest(mutual_info_classif, k=5)\n",
    "sel_five_cols.fit(X_train, y_train)\n",
    "X_train.columns[sel_five_cols.get_support()]"
   ]
  }
 ],
 "metadata": {
  "kernelspec": {
   "display_name": "Python 3",
   "language": "python",
   "name": "python3"
  },
  "language_info": {
   "codemirror_mode": {
    "name": "ipython",
    "version": 3
   },
   "file_extension": ".py",
   "mimetype": "text/x-python",
   "name": "python",
   "nbconvert_exporter": "python",
   "pygments_lexer": "ipython3",
   "version": "3.6.5"
  }
 },
 "nbformat": 4,
 "nbformat_minor": 5
}
